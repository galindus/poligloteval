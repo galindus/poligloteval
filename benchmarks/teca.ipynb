{
 "cells": [
  {
   "cell_type": "code",
   "execution_count": 1,
   "id": "4eb9153a-12c7-431b-9525-e9fd510d20b0",
   "metadata": {},
   "outputs": [
    {
     "name": "stdout",
     "output_type": "stream",
     "text": [
      "env: XDG_CACHE=/workspace/.cache\n",
      "env: HF_HOME=/workspace/.cache/huggingface\n"
     ]
    }
   ],
   "source": [
    "%env XDG_CACHE=/workspace/.cache\n",
    "%env HF_HOME=/workspace/.cache/huggingface"
   ]
  },
  {
   "cell_type": "code",
   "execution_count": 2,
   "id": "43381932-7061-42a9-ade7-27eac3938b8f",
   "metadata": {},
   "outputs": [
    {
     "name": "stderr",
     "output_type": "stream",
     "text": [
      "/workspace/venv/lib/python3.10/site-packages/tqdm/auto.py:21: TqdmWarning: IProgress not found. Please update jupyter and ipywidgets. See https://ipywidgets.readthedocs.io/en/stable/user_install.html\n",
      "  from .autonotebook import tqdm as notebook_tqdm\n"
     ]
    }
   ],
   "source": [
    "from datasets import load_dataset, Dataset\n",
    "import datasets\n",
    "import pandas as pd\n",
    "import random"
   ]
  },
  {
   "cell_type": "code",
   "execution_count": 4,
   "id": "0d04eac3-fa9a-4e5a-a7e3-d4bcf04142be",
   "metadata": {
    "scrolled": true
   },
   "outputs": [],
   "source": [
    "# Load dataset\n",
    "dataset = load_dataset(\"projecte-aina/teca\")\n",
    "df = dataset['train'].to_pandas()\n",
    "# Parameters\n",
    "seed = 55\n",
    "few_shot_count = 5\n",
    "random.seed(seed)\n",
    "\n",
    "entries = {\n",
    "    \"prompt\": [],\n",
    "    \"label\": [],\n",
    "    \"numeric_label\": []\n",
    "}\n",
    "labels = {\n",
    "    1: \"neutral\",\n",
    "    0: \"entailment\",\n",
    "    2: \"contradiction\"\n",
    "}\n",
    "\n",
    "\n",
    "while len(df) > few_shot_count + 1:\n",
    "    try:\n",
    "        examples = []\n",
    "        examples.append(df.query(\"label == 0\").sample(1, random_state=seed))\n",
    "        df = df.drop(index=examples[-1].index)\n",
    "        examples.append(df.query(\"label == 1\").sample(1, random_state=seed))\n",
    "        df = df.drop(index=examples[-1].index)\n",
    "        examples.append(df.query(\"label == 2\").sample(1, random_state=seed))\n",
    "        df = df.drop(index=examples[-1].index)\n",
    "        examples.append(df.sample(few_shot_count + 1 - 3, random_state=seed))\n",
    "        df = df.drop(index=examples[-1].index)\n",
    "    except:\n",
    "        break\n",
    "        \n",
    "    samples = pd.concat(examples)\n",
    "    \n",
    "    prompt = \"\"\n",
    "    for elm in samples.iloc[:-1].itertuples():\n",
    "        prompt += f\"premise: {elm.premise}\\nhypothesis: {elm.hypothesis}\\nlabel: {elm.label}\"\n",
    "        prompt += \"\\n----\\n\"\n",
    "        \n",
    "    last_element = samples.iloc[-1]\n",
    "    prompt += f\"premise: {last_element.premise}\\nhypothesis: {last_element.hypothesis}\\nlabel: \"\n",
    "    entries[\"prompt\"].append(prompt)\n",
    "    entries[\"label\"].append(labels[last_element.label])\n",
    "    entries[\"numeric_label\"].append(last_element.label)\n",
    "\n",
    "\n",
    "teca = pd.DataFrame(entries)\n",
    "teca.to_csv(\"teca.csv\", index=False)"
   ]
  },
  {
   "cell_type": "code",
   "execution_count": 1,
   "id": "94b379a2-227c-42c7-98cd-0e17681a92c9",
   "metadata": {},
   "outputs": [],
   "source": [
    "import pandas as pd"
   ]
  },
  {
   "cell_type": "code",
   "execution_count": 3,
   "id": "d21ae615-d631-49c7-a497-1a3cec2d98b8",
   "metadata": {},
   "outputs": [
    {
     "name": "stdout",
     "output_type": "stream",
     "text": [
      "premise: Nosaltres, per exemple, no estem d'acord de ser la crossa del PSOE.\n",
      "hypothesis: No volem que el PSOE es recolzi en nosaltres.\n",
      "label: 0\n",
      "----\n",
      "premise: Per una banda es cert que aqui no es reconeix el talent nacional i (entre l'alta burgesia del Liceu i Perelada encara menys).\n",
      "hypothesis: Tenim veritables talents en l'àmbit musical, especialment els darrers 20 anys.\n",
      "label: 1\n",
      "----\n",
      "premise: Lluís Llach recrimina el paper dels comuns en la votació al parlament del 27 d’octubre\n",
      "hypothesis: Lluís Llach aplaudeix l'acció dels comuns\n",
      "label: 2\n",
      "----\n",
      "premise: L'ambientació de la novel·la es extraordinària+B951 els paisatges i els personatges són absolutament vius.\n",
      "hypothesis: Les descripcions de la novel·la són tan vívides que sembla que els paisatges i personatges siguin reals.\n",
      "label: 0\n",
      "----\n",
      "premise: Els llops, bisons, cignes i els falcons també són presents.\n",
      "hypothesis: Hi ha mamífers i aus.\n",
      "label: 0\n",
      "----\n",
      "premise: La culpa de tot la tenen els altres per vostès, ha criticat.\n",
      "hypothesis: Vostès no són culpables de res.\n",
      "label: \n"
     ]
    }
   ],
   "source": [
    "teca = pd.read_csv(\"teca.csv\")\n",
    "print(teca.iloc[0]['prompt'])"
   ]
  },
  {
   "cell_type": "code",
   "execution_count": 4,
   "id": "3f75e3f3-f9d9-4e83-bd9d-e9b48b0041a0",
   "metadata": {},
   "outputs": [
    {
     "data": {
      "text/html": [
       "<div>\n",
       "<style scoped>\n",
       "    .dataframe tbody tr th:only-of-type {\n",
       "        vertical-align: middle;\n",
       "    }\n",
       "\n",
       "    .dataframe tbody tr th {\n",
       "        vertical-align: top;\n",
       "    }\n",
       "\n",
       "    .dataframe thead th {\n",
       "        text-align: right;\n",
       "    }\n",
       "</style>\n",
       "<table border=\"1\" class=\"dataframe\">\n",
       "  <thead>\n",
       "    <tr style=\"text-align: right;\">\n",
       "      <th></th>\n",
       "      <th>prompt</th>\n",
       "      <th>label</th>\n",
       "      <th>numeric_label</th>\n",
       "    </tr>\n",
       "  </thead>\n",
       "  <tbody>\n",
       "    <tr>\n",
       "      <th>0</th>\n",
       "      <td>premise: Nosaltres, per exemple, no estem d'ac...</td>\n",
       "      <td>entailment</td>\n",
       "      <td>0</td>\n",
       "    </tr>\n",
       "    <tr>\n",
       "      <th>1</th>\n",
       "      <td>premise: Els CDR convoquen una protesta davant...</td>\n",
       "      <td>contradiction</td>\n",
       "      <td>2</td>\n",
       "    </tr>\n",
       "    <tr>\n",
       "      <th>2</th>\n",
       "      <td>premise: Vaig incorporar me a la feina quan es...</td>\n",
       "      <td>contradiction</td>\n",
       "      <td>2</td>\n",
       "    </tr>\n",
       "    <tr>\n",
       "      <th>3</th>\n",
       "      <td>premise: La tradició i la modernitat conviuen ...</td>\n",
       "      <td>neutral</td>\n",
       "      <td>1</td>\n",
       "    </tr>\n",
       "    <tr>\n",
       "      <th>4</th>\n",
       "      <td>premise: Senda ofereix pràctiques d'un període...</td>\n",
       "      <td>entailment</td>\n",
       "      <td>0</td>\n",
       "    </tr>\n",
       "    <tr>\n",
       "      <th>...</th>\n",
       "      <td>...</td>\n",
       "      <td>...</td>\n",
       "      <td>...</td>\n",
       "    </tr>\n",
       "    <tr>\n",
       "      <th>2815</th>\n",
       "      <td>premise: Així, per exemple, \"do-re-mi\" es podr...</td>\n",
       "      <td>contradiction</td>\n",
       "      <td>2</td>\n",
       "    </tr>\n",
       "    <tr>\n",
       "      <th>2816</th>\n",
       "      <td>premise: La resposta de l'estat i les administ...</td>\n",
       "      <td>contradiction</td>\n",
       "      <td>2</td>\n",
       "    </tr>\n",
       "    <tr>\n",
       "      <th>2817</th>\n",
       "      <td>premise: També volen disfrutar de la neu d'una...</td>\n",
       "      <td>neutral</td>\n",
       "      <td>1</td>\n",
       "    </tr>\n",
       "    <tr>\n",
       "      <th>2818</th>\n",
       "      <td>premise: Sí, a mi també em va atacar un vampir...</td>\n",
       "      <td>contradiction</td>\n",
       "      <td>2</td>\n",
       "    </tr>\n",
       "    <tr>\n",
       "      <th>2819</th>\n",
       "      <td>premise: El fiscal Pedro Horrach abandona Anti...</td>\n",
       "      <td>neutral</td>\n",
       "      <td>1</td>\n",
       "    </tr>\n",
       "  </tbody>\n",
       "</table>\n",
       "<p>2820 rows × 3 columns</p>\n",
       "</div>"
      ],
      "text/plain": [
       "                                                 prompt          label  \\\n",
       "0     premise: Nosaltres, per exemple, no estem d'ac...     entailment   \n",
       "1     premise: Els CDR convoquen una protesta davant...  contradiction   \n",
       "2     premise: Vaig incorporar me a la feina quan es...  contradiction   \n",
       "3     premise: La tradició i la modernitat conviuen ...        neutral   \n",
       "4     premise: Senda ofereix pràctiques d'un període...     entailment   \n",
       "...                                                 ...            ...   \n",
       "2815  premise: Així, per exemple, \"do-re-mi\" es podr...  contradiction   \n",
       "2816  premise: La resposta de l'estat i les administ...  contradiction   \n",
       "2817  premise: També volen disfrutar de la neu d'una...        neutral   \n",
       "2818  premise: Sí, a mi també em va atacar un vampir...  contradiction   \n",
       "2819  premise: El fiscal Pedro Horrach abandona Anti...        neutral   \n",
       "\n",
       "      numeric_label  \n",
       "0                 0  \n",
       "1                 2  \n",
       "2                 2  \n",
       "3                 1  \n",
       "4                 0  \n",
       "...             ...  \n",
       "2815              2  \n",
       "2816              2  \n",
       "2817              1  \n",
       "2818              2  \n",
       "2819              1  \n",
       "\n",
       "[2820 rows x 3 columns]"
      ]
     },
     "execution_count": 4,
     "metadata": {},
     "output_type": "execute_result"
    }
   ],
   "source": [
    "teca"
   ]
  },
  {
   "cell_type": "code",
   "execution_count": null,
   "id": "4abcc0f8-90be-4902-9bf6-861be369ded9",
   "metadata": {},
   "outputs": [],
   "source": []
  }
 ],
 "metadata": {
  "kernelspec": {
   "display_name": "My Environment",
   "language": "python",
   "name": "myenv"
  },
  "language_info": {
   "codemirror_mode": {
    "name": "ipython",
    "version": 3
   },
   "file_extension": ".py",
   "mimetype": "text/x-python",
   "name": "python",
   "nbconvert_exporter": "python",
   "pygments_lexer": "ipython3",
   "version": "3.10.12"
  }
 },
 "nbformat": 4,
 "nbformat_minor": 5
}
