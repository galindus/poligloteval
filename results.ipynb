{
 "cells": [
  {
   "cell_type": "code",
   "execution_count": 1,
   "metadata": {},
   "outputs": [],
   "source": [
    "import pandas as pd\n"
   ]
  },
  {
   "cell_type": "code",
   "execution_count": 5,
   "metadata": {},
   "outputs": [],
   "source": [
    "aguila_xquad_ca = pd.read_csv(\"results/aguila-7b-xquad-ca.csv\")\n",
    "aguila_xquad_en = pd.read_csv(\"results/aguila-7b-xquad-en.csv\")\n",
    "falcon_xquad_ca = pd.read_csv(\"results/falcon-7b-xquad-ca.csv\")\n",
    "falcon_xquad_en = pd.read_csv(\"results/falcon-7b-xquad-en.csv\")\n",
    "abzuito_xquad_ca = pd.read_csv(\"results/abzuito-7b-xquad-ca.csv\")\n",
    "abzuito_catalanqa_ca = pd.read_csv(\"results/abzuito-7b-catalanqa-ca.csv\")\n",
    "aguila_catalanqa_ca = pd.read_csv(\"results/aguila-7b-catalanqa-ca.csv\")\n",
    "falcon_catalanqa_ca = pd.read_csv(\"results/falcon-7b-catalanqa-ca.csv\")\n"
   ]
  },
  {
   "cell_type": "code",
   "execution_count": 6,
   "metadata": {},
   "outputs": [],
   "source": [
    "values = [\n",
    "    [\"aguila\",\"xquad\",\"ca\", aguila_xquad_ca[\"f1\"].mean()],\n",
    "    [\"aguila\",\"xquad\",\"en\", aguila_xquad_en[\"f1\"].mean()],\n",
    "    [\"falcon\",\"xquad\",\"ca\", falcon_xquad_ca[\"f1\"].mean()],\n",
    "    [\"falcon\",\"xquad\",\"en\", falcon_xquad_en[\"f1\"].mean()],\n",
    "    [\"abzuito\",\"xquad\",\"ca\", abzuito_xquad_ca[\"f1\"].mean()],\n",
    "    [\"abzuito\",\"catalanqa\",\"ca\", abzuito_catalanqa_ca[\"f1\"].mean()],\n",
    "    [\"aguila\",\"catalanqa\",\"ca\", aguila_catalanqa_ca[\"f1\"].mean()],\n",
    "    [\"falcon\",\"catalanqa\",\"ca\", falcon_catalanqa_ca[\"f1\"].mean()],\n",
    "]\n",
    "\n",
    "results = pd.DataFrame(data=values, columns=[\"model\", \"task\", \"lang\", \"f1 (mean)\"])\n"
   ]
  },
  {
   "cell_type": "code",
   "execution_count": 7,
   "metadata": {},
   "outputs": [
    {
     "data": {
      "text/html": [
       "<div>\n",
       "<style scoped>\n",
       "    .dataframe tbody tr th:only-of-type {\n",
       "        vertical-align: middle;\n",
       "    }\n",
       "\n",
       "    .dataframe tbody tr th {\n",
       "        vertical-align: top;\n",
       "    }\n",
       "\n",
       "    .dataframe thead th {\n",
       "        text-align: right;\n",
       "    }\n",
       "</style>\n",
       "<table border=\"1\" class=\"dataframe\">\n",
       "  <thead>\n",
       "    <tr style=\"text-align: right;\">\n",
       "      <th></th>\n",
       "      <th>model</th>\n",
       "      <th>task</th>\n",
       "      <th>lang</th>\n",
       "      <th>f1 (mean)</th>\n",
       "    </tr>\n",
       "  </thead>\n",
       "  <tbody>\n",
       "    <tr>\n",
       "      <th>0</th>\n",
       "      <td>aguila</td>\n",
       "      <td>xquad</td>\n",
       "      <td>ca</td>\n",
       "      <td>0.507363</td>\n",
       "    </tr>\n",
       "    <tr>\n",
       "      <th>1</th>\n",
       "      <td>aguila</td>\n",
       "      <td>xquad</td>\n",
       "      <td>en</td>\n",
       "      <td>0.523871</td>\n",
       "    </tr>\n",
       "    <tr>\n",
       "      <th>2</th>\n",
       "      <td>falcon</td>\n",
       "      <td>xquad</td>\n",
       "      <td>ca</td>\n",
       "      <td>0.477440</td>\n",
       "    </tr>\n",
       "    <tr>\n",
       "      <th>3</th>\n",
       "      <td>falcon</td>\n",
       "      <td>xquad</td>\n",
       "      <td>en</td>\n",
       "      <td>0.750167</td>\n",
       "    </tr>\n",
       "    <tr>\n",
       "      <th>4</th>\n",
       "      <td>abzuito</td>\n",
       "      <td>xquad</td>\n",
       "      <td>ca</td>\n",
       "      <td>0.572568</td>\n",
       "    </tr>\n",
       "    <tr>\n",
       "      <th>5</th>\n",
       "      <td>abzuito</td>\n",
       "      <td>catalanqa</td>\n",
       "      <td>ca</td>\n",
       "      <td>0.524977</td>\n",
       "    </tr>\n",
       "    <tr>\n",
       "      <th>6</th>\n",
       "      <td>aguila</td>\n",
       "      <td>catalanqa</td>\n",
       "      <td>ca</td>\n",
       "      <td>0.589792</td>\n",
       "    </tr>\n",
       "    <tr>\n",
       "      <th>7</th>\n",
       "      <td>falcon</td>\n",
       "      <td>catalanqa</td>\n",
       "      <td>ca</td>\n",
       "      <td>0.456866</td>\n",
       "    </tr>\n",
       "  </tbody>\n",
       "</table>\n",
       "</div>"
      ],
      "text/plain": [
       "     model       task lang  f1 (mean)\n",
       "0   aguila      xquad   ca   0.507363\n",
       "1   aguila      xquad   en   0.523871\n",
       "2   falcon      xquad   ca   0.477440\n",
       "3   falcon      xquad   en   0.750167\n",
       "4  abzuito      xquad   ca   0.572568\n",
       "5  abzuito  catalanqa   ca   0.524977\n",
       "6   aguila  catalanqa   ca   0.589792\n",
       "7   falcon  catalanqa   ca   0.456866"
      ]
     },
     "execution_count": 7,
     "metadata": {},
     "output_type": "execute_result"
    }
   ],
   "source": [
    "results\n"
   ]
  },
  {
   "cell_type": "markdown",
   "metadata": {},
   "source": [
    "## Look at some samples"
   ]
  },
  {
   "cell_type": "code",
   "execution_count": 21,
   "metadata": {},
   "outputs": [],
   "source": [
    "i = 99\n"
   ]
  },
  {
   "cell_type": "markdown",
   "metadata": {},
   "source": [
    "## Falcon"
   ]
  },
  {
   "cell_type": "code",
   "execution_count": 22,
   "metadata": {},
   "outputs": [
    {
     "name": "stdout",
     "output_type": "stream",
     "text": [
      "Algunes teories desenvolupades durant la dècada dels anys 70 van definir possibles vies a través de les quals la desigualtat pot tenir un efecte positiu en el desenvolupament econòmic. Segons una anàlisi del 1955, es pensava que els estalvis dels rics, si augmentaven amb la desigualtat, compensarien la reducció de la demanda dels consumidors. Un informe del 2013 sobre Nigèria suggereix que el creixement ha augmentat amb una desigualtat d’ingressos més gran. Algunes teories populars des de la dècada dels anys 50 fins al 2011 afirmaven, incorrectament, que la desigualtat tenia un efecte positiu en el desenvolupament econòmic. Les anàlisis basades en la comparació de les xifres anuals sobre igualtat amb els índexs de creixement anual van ser erronis ja que calen diversos anys perquè els efectes es manifestin com a canvis en el creixement econòmic. Els economistes de l’FMI van trobar una estreta relació entre nivells més baixos de desigualtat en els països en desenvolupament i períodes sostinguts de creixement econòmic. Els països en desenvolupament amb una elevada desigualtat han \"aconseguit iniciar un creixement amb un índex elevat durant uns quants anys”, però \"els períodes de creixement més llargs estan estretament relacionats amb més igualtat en la distribució de la renda\".\n",
      "----\n",
      "Pregunta: Quan es van desenvolupar les teories que suggereixen que la desigualtat pot tenir un efecte positiu en el desenvolupament econòmic?\n",
      "Resposta: dècada dels anys 70\n",
      "----\n",
      "Pregunta: Segons una anàlisi del 1955, què es pensava que compensaria els estalvis dels rics?\n",
      "Resposta: la reducció de la demanda dels consumidors\n",
      "----\n",
      "Pregunta: Quant de temps es necessita perquè els efectes es manifestin com a canvis en el creixement econòmic?\n",
      "Resposta: diversos anys\n",
      "----\n",
      "Pregunta: A què s’associen els períodes de creixement més llargs?\n",
      "Resposta:  més igualtat en la distribució de la renda\n",
      "Expected: més igualtat en la distribució de la renda\n"
     ]
    }
   ],
   "source": [
    "print(falcon_xquad_ca.iloc[i]['prompt'], falcon_xquad_ca.iloc[i]['predictions'] )\n",
    "print(\"Expected:\", falcon_xquad_ca.iloc[i]['answer'] )\n"
   ]
  },
  {
   "cell_type": "markdown",
   "metadata": {},
   "source": [
    "### Aguila"
   ]
  },
  {
   "cell_type": "code",
   "execution_count": 23,
   "metadata": {},
   "outputs": [
    {
     "name": "stdout",
     "output_type": "stream",
     "text": [
      "Algunes teories desenvolupades durant la dècada dels anys 70 van definir possibles vies a través de les quals la desigualtat pot tenir un efecte positiu en el desenvolupament econòmic. Segons una anàlisi del 1955, es pensava que els estalvis dels rics, si augmentaven amb la desigualtat, compensarien la reducció de la demanda dels consumidors. Un informe del 2013 sobre Nigèria suggereix que el creixement ha augmentat amb una desigualtat d’ingressos més gran. Algunes teories populars des de la dècada dels anys 50 fins al 2011 afirmaven, incorrectament, que la desigualtat tenia un efecte positiu en el desenvolupament econòmic. Les anàlisis basades en la comparació de les xifres anuals sobre igualtat amb els índexs de creixement anual van ser erronis ja que calen diversos anys perquè els efectes es manifestin com a canvis en el creixement econòmic. Els economistes de l’FMI van trobar una estreta relació entre nivells més baixos de desigualtat en els països en desenvolupament i períodes sostinguts de creixement econòmic. Els països en desenvolupament amb una elevada desigualtat han \"aconseguit iniciar un creixement amb un índex elevat durant uns quants anys”, però \"els períodes de creixement més llargs estan estretament relacionats amb més igualtat en la distribució de la renda\".\n",
      "----\n",
      "Pregunta: Quan es van desenvolupar les teories que suggereixen que la desigualtat pot tenir un efecte positiu en el desenvolupament econòmic?\n",
      "Resposta: dècada dels anys 70\n",
      "----\n",
      "Pregunta: Segons una anàlisi del 1955, què es pensava que compensaria els estalvis dels rics?\n",
      "Resposta: la reducció de la demanda dels consumidors\n",
      "----\n",
      "Pregunta: Quant de temps es necessita perquè els efectes es manifestin com a canvis en el creixement econòmic?\n",
      "Resposta: diversos anys\n",
      "----\n",
      "Pregunta: A què s’associen els períodes de creixement més llargs?\n",
      "Resposta:  als períodes de creixement més llargs estan estretament relacionats amb més igualtat en la distribució de la renda\n",
      "Expected: més igualtat en la distribució de la renda\n"
     ]
    }
   ],
   "source": [
    "print(aguila_xquad_ca.iloc[i]['prompt'], aguila_xquad_ca.iloc[i]['predictions'] )\n",
    "print(\"Expected:\", aguila_xquad_ca.iloc[i]['answer'] )\n"
   ]
  },
  {
   "cell_type": "markdown",
   "metadata": {},
   "source": [
    "## Falcon EN\n"
   ]
  },
  {
   "cell_type": "code",
   "execution_count": 24,
   "metadata": {},
   "outputs": [
    {
     "name": "stdout",
     "output_type": "stream",
     "text": [
      "Some theories developed in the 1970s established possible avenues through which inequality may have a positive effect on economic development. According to a 1955 review, savings by the wealthy, if these increase with inequality, were thought to offset reduced consumer demand. A 2013 report on Nigeria suggests that growth has risen with increased income inequality. Some theories popular from the 1950s to 2011 incorrectly stated that inequality had a positive effect on economic development. Analyses based on comparing yearly equality figures to yearly growth rates were misleading because it takes several years for effects to manifest as changes to economic growth. IMF economists found a strong association between lower levels of inequality in developing countries and sustained periods of economic growth. Developing countries with high inequality have \"succeeded in initiating growth at high rates for a few years\" but \"longer growth spells are robustly associated with more equality in the income distribution.\"\n",
      "----\n",
      "Question: When were theories developed suggesting inequality may have some positive effect on economic development?\n",
      "Response: 1970s\n",
      "----\n",
      "Question: According to a 1955 review, what were savings by the wealthy thought to offset?\n",
      "Response: reduced consumer demand\n",
      "----\n",
      "Question: How long does it take for the effects to manifest as changes to economic growth?\n",
      "Response: several years\n",
      "----\n",
      "Question: What are longer growth spells associated with?\n",
      "Response:  more equality in the income distribution\n",
      "Expected: more equality in the income distribution\n"
     ]
    }
   ],
   "source": [
    "print(falcon_xquad_en.iloc[i]['prompt'], falcon_xquad_en.iloc[i]['predictions'] )\n",
    "print(\"Expected:\", falcon_xquad_en.iloc[i]['answer'] )\n"
   ]
  },
  {
   "cell_type": "markdown",
   "metadata": {},
   "source": [
    "## Aguila EN\n"
   ]
  },
  {
   "cell_type": "code",
   "execution_count": 25,
   "metadata": {},
   "outputs": [
    {
     "name": "stdout",
     "output_type": "stream",
     "text": [
      "Some theories developed in the 1970s established possible avenues through which inequality may have a positive effect on economic development. According to a 1955 review, savings by the wealthy, if these increase with inequality, were thought to offset reduced consumer demand. A 2013 report on Nigeria suggests that growth has risen with increased income inequality. Some theories popular from the 1950s to 2011 incorrectly stated that inequality had a positive effect on economic development. Analyses based on comparing yearly equality figures to yearly growth rates were misleading because it takes several years for effects to manifest as changes to economic growth. IMF economists found a strong association between lower levels of inequality in developing countries and sustained periods of economic growth. Developing countries with high inequality have \"succeeded in initiating growth at high rates for a few years\" but \"longer growth spells are robustly associated with more equality in the income distribution.\"\n",
      "----\n",
      "Question: When were theories developed suggesting inequality may have some positive effect on economic development?\n",
      "Response: 1970s\n",
      "----\n",
      "Question: According to a 1955 review, what were savings by the wealthy thought to offset?\n",
      "Response: reduced consumer demand\n",
      "----\n",
      "Question: How long does it take for the effects to manifest as changes to economic growth?\n",
      "Response: several years\n",
      "----\n",
      "Question: What are longer growth spells associated with?\n",
      "Response:  longer growth spells are robustly associated with more equality in the income distribution\n",
      "Expected: more equality in the income distribution\n"
     ]
    }
   ],
   "source": [
    "print(aguila_xquad_en.iloc[i]['prompt'], aguila_xquad_en.iloc[i]['predictions'] )\n",
    "print(\"Expected:\", aguila_xquad_en.iloc[i]['answer'] )\n"
   ]
  },
  {
   "cell_type": "markdown",
   "metadata": {},
   "source": [
    "## Abzuito\n"
   ]
  },
  {
   "cell_type": "code",
   "execution_count": 26,
   "metadata": {},
   "outputs": [
    {
     "name": "stdout",
     "output_type": "stream",
     "text": [
      "Algunes teories desenvolupades durant la dècada dels anys 70 van definir possibles vies a través de les quals la desigualtat pot tenir un efecte positiu en el desenvolupament econòmic. Segons una anàlisi del 1955, es pensava que els estalvis dels rics, si augmentaven amb la desigualtat, compensarien la reducció de la demanda dels consumidors. Un informe del 2013 sobre Nigèria suggereix que el creixement ha augmentat amb una desigualtat d’ingressos més gran. Algunes teories populars des de la dècada dels anys 50 fins al 2011 afirmaven, incorrectament, que la desigualtat tenia un efecte positiu en el desenvolupament econòmic. Les anàlisis basades en la comparació de les xifres anuals sobre igualtat amb els índexs de creixement anual van ser erronis ja que calen diversos anys perquè els efectes es manifestin com a canvis en el creixement econòmic. Els economistes de l’FMI van trobar una estreta relació entre nivells més baixos de desigualtat en els països en desenvolupament i períodes sostinguts de creixement econòmic. Els països en desenvolupament amb una elevada desigualtat han \"aconseguit iniciar un creixement amb un índex elevat durant uns quants anys”, però \"els períodes de creixement més llargs estan estretament relacionats amb més igualtat en la distribució de la renda\".\n",
      "----\n",
      "Pregunta: Quan es van desenvolupar les teories que suggereixen que la desigualtat pot tenir un efecte positiu en el desenvolupament econòmic?\n",
      "Resposta: dècada dels anys 70\n",
      "----\n",
      "Pregunta: Segons una anàlisi del 1955, què es pensava que compensaria els estalvis dels rics?\n",
      "Resposta: la reducció de la demanda dels consumidors\n",
      "----\n",
      "Pregunta: Quant de temps es necessita perquè els efectes es manifestin com a canvis en el creixement econòmic?\n",
      "Resposta: diversos anys\n",
      "----\n",
      "Pregunta: A què s’associen els períodes de creixement més llargs?\n",
      "Resposta:  Nivells més baixos de desigualtat\n",
      "Expected: més igualtat en la distribució de la renda\n"
     ]
    }
   ],
   "source": [
    "print(abzuito_xquad_ca.iloc[i]['prompt'], abzuito_xquad_ca.iloc[i]['predictions'] )\n",
    "print(\"Expected:\", abzuito_xquad_ca.iloc[i]['answer'] )\n"
   ]
  },
  {
   "cell_type": "code",
   "execution_count": 79,
   "metadata": {},
   "outputs": [
    {
     "name": "stdout",
     "output_type": "stream",
     "text": [
      "Index(['context_abzuito', 'prompt_abzuito', 'answer_abzuito', 'f1_abzuito',\n",
      "       'predictions_abzuito'],\n",
      "      dtype='object')\n"
     ]
    },
    {
     "data": {
      "text/html": [
       "<div>\n",
       "<style scoped>\n",
       "    .dataframe tbody tr th:only-of-type {\n",
       "        vertical-align: middle;\n",
       "    }\n",
       "\n",
       "    .dataframe tbody tr th {\n",
       "        vertical-align: top;\n",
       "    }\n",
       "\n",
       "    .dataframe thead th {\n",
       "        text-align: right;\n",
       "    }\n",
       "</style>\n",
       "<table border=\"1\" class=\"dataframe\">\n",
       "  <thead>\n",
       "    <tr style=\"text-align: right;\">\n",
       "      <th></th>\n",
       "      <th>context_abzuito</th>\n",
       "      <th>prompt_abzuito</th>\n",
       "      <th>answer_abzuito</th>\n",
       "      <th>f1_abzuito</th>\n",
       "      <th>predictions_abzuito</th>\n",
       "      <th>context_falcon</th>\n",
       "      <th>prompt_falcon</th>\n",
       "      <th>answer_falcon</th>\n",
       "      <th>f1_falcon</th>\n",
       "      <th>predictions_falcon</th>\n",
       "      <th>context</th>\n",
       "      <th>prompt</th>\n",
       "      <th>answer</th>\n",
       "      <th>f1</th>\n",
       "      <th>predictions</th>\n",
       "    </tr>\n",
       "  </thead>\n",
       "  <tbody>\n",
       "    <tr>\n",
       "      <th>56</th>\n",
       "      <td>Al budisme tibetà, als mestres de Dharma al Ti...</td>\n",
       "      <td>Al budisme tibetà, als mestres de Dharma al Ti...</td>\n",
       "      <td>lama</td>\n",
       "      <td>0.0</td>\n",
       "      <td>Tulku</td>\n",
       "      <td>Al budisme tibetà, als mestres de Dharma al Ti...</td>\n",
       "      <td>Al budisme tibetà, als mestres de Dharma al Ti...</td>\n",
       "      <td>lama</td>\n",
       "      <td>1.0</td>\n",
       "      <td>lama</td>\n",
       "      <td>Al budisme tibetà, als mestres de Dharma al Ti...</td>\n",
       "      <td>Al budisme tibetà, als mestres de Dharma al Ti...</td>\n",
       "      <td>lama</td>\n",
       "      <td>1.000000</td>\n",
       "      <td>lama</td>\n",
       "    </tr>\n",
       "    <tr>\n",
       "      <th>57</th>\n",
       "      <td>Al budisme tibetà, als mestres de Dharma al Ti...</td>\n",
       "      <td>Al budisme tibetà, als mestres de Dharma al Ti...</td>\n",
       "      <td>renéixer</td>\n",
       "      <td>0.0</td>\n",
       "      <td>phowa i siddhi</td>\n",
       "      <td>Al budisme tibetà, als mestres de Dharma al Ti...</td>\n",
       "      <td>Al budisme tibetà, als mestres de Dharma al Ti...</td>\n",
       "      <td>renéixer</td>\n",
       "      <td>1.0</td>\n",
       "      <td>renéixer</td>\n",
       "      <td>Al budisme tibetà, als mestres de Dharma al Ti...</td>\n",
       "      <td>Al budisme tibetà, als mestres de Dharma al Ti...</td>\n",
       "      <td>renéixer</td>\n",
       "      <td>1.000000</td>\n",
       "      <td>renéixer</td>\n",
       "    </tr>\n",
       "    <tr>\n",
       "      <th>72</th>\n",
       "      <td>Al llarg de la seva existència, Varsòvia ha es...</td>\n",
       "      <td>Al llarg de la seva existència, Varsòvia ha es...</td>\n",
       "      <td>711.988</td>\n",
       "      <td>0.0</td>\n",
       "      <td>711. 988</td>\n",
       "      <td>Al llarg de la seva existència, Varsòvia ha es...</td>\n",
       "      <td>Al llarg de la seva existència, Varsòvia ha es...</td>\n",
       "      <td>711.988</td>\n",
       "      <td>1.0</td>\n",
       "      <td>711.988</td>\n",
       "      <td>Al llarg de la seva existència, Varsòvia ha es...</td>\n",
       "      <td>Al llarg de la seva existència, Varsòvia ha es...</td>\n",
       "      <td>711.988</td>\n",
       "      <td>0.666667</td>\n",
       "      <td>711.988 habitants</td>\n",
       "    </tr>\n",
       "    <tr>\n",
       "      <th>73</th>\n",
       "      <td>Al llarg de la seva existència, Varsòvia ha es...</td>\n",
       "      <td>Al llarg de la seva existència, Varsòvia ha es...</td>\n",
       "      <td>56,2 %</td>\n",
       "      <td>0.0</td>\n",
       "      <td>56. 2 %</td>\n",
       "      <td>Al llarg de la seva existència, Varsòvia ha es...</td>\n",
       "      <td>Al llarg de la seva existència, Varsòvia ha es...</td>\n",
       "      <td>56,2 %</td>\n",
       "      <td>1.0</td>\n",
       "      <td>56,2 %</td>\n",
       "      <td>Al llarg de la seva existència, Varsòvia ha es...</td>\n",
       "      <td>Al llarg de la seva existència, Varsòvia ha es...</td>\n",
       "      <td>56,2 %</td>\n",
       "      <td>1.000000</td>\n",
       "      <td>56,2 %</td>\n",
       "    </tr>\n",
       "  </tbody>\n",
       "</table>\n",
       "</div>"
      ],
      "text/plain": [
       "                                      context_abzuito  \\\n",
       "56  Al budisme tibetà, als mestres de Dharma al Ti...   \n",
       "57  Al budisme tibetà, als mestres de Dharma al Ti...   \n",
       "72  Al llarg de la seva existència, Varsòvia ha es...   \n",
       "73  Al llarg de la seva existència, Varsòvia ha es...   \n",
       "\n",
       "                                       prompt_abzuito answer_abzuito  \\\n",
       "56  Al budisme tibetà, als mestres de Dharma al Ti...           lama   \n",
       "57  Al budisme tibetà, als mestres de Dharma al Ti...       renéixer   \n",
       "72  Al llarg de la seva existència, Varsòvia ha es...        711.988   \n",
       "73  Al llarg de la seva existència, Varsòvia ha es...         56,2 %   \n",
       "\n",
       "    f1_abzuito predictions_abzuito  \\\n",
       "56         0.0               Tulku   \n",
       "57         0.0      phowa i siddhi   \n",
       "72         0.0            711. 988   \n",
       "73         0.0             56. 2 %   \n",
       "\n",
       "                                       context_falcon  \\\n",
       "56  Al budisme tibetà, als mestres de Dharma al Ti...   \n",
       "57  Al budisme tibetà, als mestres de Dharma al Ti...   \n",
       "72  Al llarg de la seva existència, Varsòvia ha es...   \n",
       "73  Al llarg de la seva existència, Varsòvia ha es...   \n",
       "\n",
       "                                        prompt_falcon answer_falcon  \\\n",
       "56  Al budisme tibetà, als mestres de Dharma al Ti...          lama   \n",
       "57  Al budisme tibetà, als mestres de Dharma al Ti...      renéixer   \n",
       "72  Al llarg de la seva existència, Varsòvia ha es...       711.988   \n",
       "73  Al llarg de la seva existència, Varsòvia ha es...        56,2 %   \n",
       "\n",
       "    f1_falcon predictions_falcon  \\\n",
       "56        1.0               lama   \n",
       "57        1.0           renéixer   \n",
       "72        1.0            711.988   \n",
       "73        1.0             56,2 %   \n",
       "\n",
       "                                              context  \\\n",
       "56  Al budisme tibetà, als mestres de Dharma al Ti...   \n",
       "57  Al budisme tibetà, als mestres de Dharma al Ti...   \n",
       "72  Al llarg de la seva existència, Varsòvia ha es...   \n",
       "73  Al llarg de la seva existència, Varsòvia ha es...   \n",
       "\n",
       "                                               prompt    answer        f1  \\\n",
       "56  Al budisme tibetà, als mestres de Dharma al Ti...      lama  1.000000   \n",
       "57  Al budisme tibetà, als mestres de Dharma al Ti...  renéixer  1.000000   \n",
       "72  Al llarg de la seva existència, Varsòvia ha es...   711.988  0.666667   \n",
       "73  Al llarg de la seva existència, Varsòvia ha es...    56,2 %  1.000000   \n",
       "\n",
       "           predictions  \n",
       "56                lama  \n",
       "57            renéixer  \n",
       "72   711.988 habitants  \n",
       "73              56,2 %  "
      ]
     },
     "execution_count": 79,
     "metadata": {},
     "output_type": "execute_result"
    }
   ],
   "source": [
    "\n",
    "abzuito = abzuito_xquad_ca[:200]\n",
    "abzuito.columns = [f\"{c}_abzuito\" for c in abzuito_xquad_ca.columns]\n",
    "falcon = falcon_xquad_ca[:200]\n",
    "falcon.columns = [f\"{c}_falcon\" for c in falcon_xquad_ca.columns]\n",
    "print(abzuito.columns)\n",
    "\n",
    "_all = pd.concat([abzuito, falcon, aguila_xquad_ca[:200]], axis=1)\n",
    "_all.query(\"f1_abzuito == 0 and f1_falcon >0.5 and f1 > 0.5\")\n"
   ]
  },
  {
   "cell_type": "code",
   "execution_count": 80,
   "metadata": {},
   "outputs": [
    {
     "data": {
      "text/plain": [
       "(200, 200, 1114)"
      ]
     },
     "execution_count": 80,
     "metadata": {},
     "output_type": "execute_result"
    }
   ],
   "source": [
    "len(abzuito), len(falcon), len(aguila_xquad_ca)\n"
   ]
  },
  {
   "cell_type": "code",
   "execution_count": 81,
   "metadata": {},
   "outputs": [
    {
     "name": "stdout",
     "output_type": "stream",
     "text": [
      "Al budisme tibetà, als mestres de Dharma al Tibet se’ls coneix amb el nom de lama. Un lama que, a través de phowa i siddhi, ha decidit conscientment renéixer, sovint moltes vegades, per continuar el seu vot de Bodhisattva, s’anomena tulku.\n",
      "----\n",
      "Pregunta: Quin nom rep el mestre de budisme tibetà?\n",
      "Resposta: lama\n",
      "----\n",
      "Pregunta: Quantes vegades ha acceptat un lama renéixer?\n",
      "Resposta: moltes vegades\n",
      "----\n",
      "Pregunta: Quin nom rep el vot de Bodhisattva?\n",
      "Resposta:\n"
     ]
    }
   ],
   "source": [
    "print(_all.loc[58][\"prompt\"])\n"
   ]
  }
 ],
 "metadata": {
  "kernelspec": {
   "display_name": "venv",
   "language": "python",
   "name": "python3"
  },
  "language_info": {
   "codemirror_mode": {
    "name": "ipython",
    "version": 3
   },
   "file_extension": ".py",
   "mimetype": "text/x-python",
   "name": "python",
   "nbconvert_exporter": "python",
   "pygments_lexer": "ipython3",
   "version": "3.10.12"
  }
 },
 "nbformat": 4,
 "nbformat_minor": 2
}
