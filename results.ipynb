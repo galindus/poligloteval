{
 "cells": [
  {
   "cell_type": "code",
   "execution_count": 1,
   "metadata": {},
   "outputs": [],
   "source": [
    "import pandas as pd\n"
   ]
  },
  {
   "cell_type": "code",
   "execution_count": 2,
   "metadata": {},
   "outputs": [],
   "source": [
    "aguila_catalanqa_ca = pd.read_csv(\"results/aguila-7b-catalanqa-ca.csv\")\n",
    "# aguila_catalanqa_en = pd.read_csv(\"results/aguila-7b-catalanqa-en.csv\")\n",
    "# falcon_catalanqa_ca = pd.read_csv(\"results/falcon-7b-catalanqa-ca.csv\")\n",
    "# falcon_catalanqa_en = pd.read_csv(\"results/falcon-7b-catalanqa-en.csv\")\n",
    "aguila_xquad_ca = pd.read_csv(\"results/aguila-7b-xquad-ca.csv\")\n",
    "aguila_xquad_en = pd.read_csv(\"results/aguila-7b-xquad-en.csv\")\n",
    "# falcon_xquad_ca = pd.read_csv(\"results/falcon-7b-xquad-ca.csv\")\n",
    "# falcon_xquad_en = pd.read_csv(\"results/falcon-7b-xquad-en.csv\")\n"
   ]
  },
  {
   "cell_type": "code",
   "execution_count": 3,
   "metadata": {},
   "outputs": [],
   "source": [
    "values = [\n",
    "    [\"aguila\",\"catalanqa\",\"ca\", aguila_catalanqa_ca[\"f1\"].mean()],\n",
    "    # [\"aguila\",\"catalanqa\",\"en\", aguila_catalanqa_en[\"f1\"].mean()],\n",
    "    # [\"falcon\",\"catalanqa\",\"ca\", falcon_catalanqa_ca[\"f1\"].mean()],\n",
    "    # [\"falcon\",\"catalanqa\",\"en\", falcon_catalanqa_en[\"f1\"].mean()],\n",
    "    [\"aguila\",\"xquad\",\"ca\", aguila_xquad_ca[\"f1\"].mean()],\n",
    "    [\"aguila\",\"xquad\",\"en\", aguila_xquad_en[\"f1\"].mean()],\n",
    "    # [\"falcon\",\"xquad\",\"ca\", falcon_xquad_ca[columns][\"f1\"].mean()],\n",
    "    # [\"falcon\",\"xquad\",\"en\", falcon_xquad_en[columns][\"f1\"].mean()],\n",
    "]\n",
    "\n",
    "results = pd.DataFrame(data=values, columns=[\"model\", \"task\", \"lang\", \"f1 (mean)\"])\n"
   ]
  },
  {
   "cell_type": "code",
   "execution_count": 4,
   "metadata": {},
   "outputs": [
    {
     "data": {
      "text/html": [
       "<div>\n",
       "<style scoped>\n",
       "    .dataframe tbody tr th:only-of-type {\n",
       "        vertical-align: middle;\n",
       "    }\n",
       "\n",
       "    .dataframe tbody tr th {\n",
       "        vertical-align: top;\n",
       "    }\n",
       "\n",
       "    .dataframe thead th {\n",
       "        text-align: right;\n",
       "    }\n",
       "</style>\n",
       "<table border=\"1\" class=\"dataframe\">\n",
       "  <thead>\n",
       "    <tr style=\"text-align: right;\">\n",
       "      <th></th>\n",
       "      <th>model</th>\n",
       "      <th>task</th>\n",
       "      <th>lang</th>\n",
       "      <th>f1 (mean)</th>\n",
       "    </tr>\n",
       "  </thead>\n",
       "  <tbody>\n",
       "    <tr>\n",
       "      <th>0</th>\n",
       "      <td>aguila</td>\n",
       "      <td>catalanqa</td>\n",
       "      <td>ca</td>\n",
       "      <td>0.591341</td>\n",
       "    </tr>\n",
       "    <tr>\n",
       "      <th>1</th>\n",
       "      <td>aguila</td>\n",
       "      <td>xquad</td>\n",
       "      <td>ca</td>\n",
       "      <td>0.507363</td>\n",
       "    </tr>\n",
       "    <tr>\n",
       "      <th>2</th>\n",
       "      <td>aguila</td>\n",
       "      <td>xquad</td>\n",
       "      <td>en</td>\n",
       "      <td>0.523871</td>\n",
       "    </tr>\n",
       "  </tbody>\n",
       "</table>\n",
       "</div>"
      ],
      "text/plain": [
       "    model       task lang  f1 (mean)\n",
       "0  aguila  catalanqa   ca   0.591341\n",
       "1  aguila      xquad   ca   0.507363\n",
       "2  aguila      xquad   en   0.523871"
      ]
     },
     "execution_count": 4,
     "metadata": {},
     "output_type": "execute_result"
    }
   ],
   "source": [
    "results\n"
   ]
  },
  {
   "cell_type": "code",
   "execution_count": 6,
   "metadata": {},
   "outputs": [],
   "source": [
    "prefix = \"EN_\"\n",
    "aguila_xquad_en.columns =  [f\"{prefix}{c}\" for c in aguila_xquad_en.columns]\n"
   ]
  },
  {
   "cell_type": "code",
   "execution_count": 7,
   "metadata": {},
   "outputs": [],
   "source": [
    "combined = pd.concat([aguila_xquad_ca, aguila_xquad_en], sort=False, axis=1)\n",
    "columns = [\"predictions\",\"EN_f1\", \"EN_predictions\", \"f1\", \"EN_answer\", \"EN_context\", \"EN_prompt\", \"answer\",\t\"context\",\t\"prompt\"]\n",
    "combined = combined.reindex(columns=columns)\n"
   ]
  },
  {
   "cell_type": "code",
   "execution_count": null,
   "metadata": {},
   "outputs": [],
   "source": []
  }
 ],
 "metadata": {
  "kernelspec": {
   "display_name": "venv",
   "language": "python",
   "name": "python3"
  },
  "language_info": {
   "codemirror_mode": {
    "name": "ipython",
    "version": 3
   },
   "file_extension": ".py",
   "mimetype": "text/x-python",
   "name": "python",
   "nbconvert_exporter": "python",
   "pygments_lexer": "ipython3",
   "version": "3.10.12"
  }
 },
 "nbformat": 4,
 "nbformat_minor": 2
}
